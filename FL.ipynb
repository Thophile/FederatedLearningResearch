{
 "cells": [
  {
   "cell_type": "markdown",
   "id": "ca5b1c40",
   "metadata": {},
   "source": [
    "## Dataset importing"
   ]
  },
  {
   "cell_type": "code",
   "execution_count": null,
   "id": "c89bf46b",
   "metadata": {},
   "outputs": [],
   "source": [
    "import pandas as pd\n",
    "import pyodbc \n",
    "\n",
    "conn = pyodbc.connect('Driver={SQL Server};'\n",
    "                      'Server=ù;'\n",
    "                      'Database=database_name;'\n",
    "                      'Trusted_Connection=yes;')\n",
    "\n",
    "df = pd.read_sql_query('SELECT * FROM products', conn)\n",
    "\n",
    "print(df)"
   ]
  }
 ],
 "metadata": {
  "interpreter": {
   "hash": "ad2bdc8ecc057115af97d19610ffacc2b4e99fae6737bb82f5d7fb13d2f2c186"
  },
  "kernelspec": {
   "display_name": "Python 3.8.8 ('base')",
   "language": "python",
   "name": "python3"
  },
  "language_info": {
   "name": "python",
   "version": "3.8.8"
  }
 },
 "nbformat": 4,
 "nbformat_minor": 5
}
